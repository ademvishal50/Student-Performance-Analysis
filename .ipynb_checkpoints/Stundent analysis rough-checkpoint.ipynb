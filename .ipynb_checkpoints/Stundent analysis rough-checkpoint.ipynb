{
 "cells": [
  {
   "cell_type": "code",
   "execution_count": 1,
   "id": "e90a1239",
   "metadata": {},
   "outputs": [],
   "source": [
    "# x1 = village_town_df_g[\"Total\"]\n",
    "# x2 = city_df_g[\"Total\"]\n",
    "\n",
    "# stats1 = pd.DataFrame({\"x1\":x1})\n",
    "# stats2 = pd.DataFrame({\"x2\":x2})\n",
    "\n",
    "# stats1[\"(x1-x1bar)^2\"] = (stats1['x1'] - stats1[\"x1\"].mean())**2\n",
    "# stats2[\"(x2-x2bar)^2\"] = (stats2['x2'] - stats2[\"x2\"].mean())**2\n",
    "\n",
    "# print(stats1)\n",
    "# print(stats2)\n",
    "\n",
    "# sum1 = ceil(stats1.iloc[:,1].sum())\n",
    "# sum2 = ceil(stats2.iloc[:,1].sum())\n",
    "# n1 = stats1.shape[0]\n",
    "# n2 = stats2.shape[0]\n",
    "\n",
    "# s = (sum1 + sum2)/(n1+n2-2)\n",
    "\n",
    "# s\n",
    "\n",
    "# v = n1+n2-2\n",
    "# v\n",
    "\n",
    "# ttab = 1.740\n",
    "\n",
    "# tcal = abs((x1.mean()-x2.mean())/sqrt((s**2)*((1/n1)+(1/n2))))\n",
    "\n",
    "# tcal"
   ]
  },
  {
   "cell_type": "code",
   "execution_count": 5,
   "id": "637690b2",
   "metadata": {},
   "outputs": [
    {
     "name": "stdout",
     "output_type": "stream",
     "text": [
      "1.681070701847763\n",
      "0.9499999998675384\n"
     ]
    }
   ],
   "source": [
    "\n",
    "# Student t-distribution Percent Point Function\n",
    "from scipy.stats import t\n",
    "# define probability\n",
    "p = 0.95\n",
    "df = 43\n",
    "# retrieve value <= probability\n",
    "value = t.ppf(p, df)\n",
    "print(value)\n",
    "# confirm with cdf\n",
    "p = t.cdf(value, df)\n",
    "print(p)"
   ]
  },
  {
   "cell_type": "code",
   "execution_count": null,
   "id": "4e7980b2",
   "metadata": {},
   "outputs": [],
   "source": [
    "cur_var = titles[0][0]\n",
    "titles = [list(ele) for ele in titles]\n",
    "for i in range(1,len(titles)):\n",
    "    if i%3==0:\n",
    "        cur_var = titles[i][0]\n",
    "    if titles[i][0] != cur_var:\n",
    "        titles[i][0] = cur_var\n",
    "titles = [tuple(ele) for ele in titles]"
   ]
  },
  {
   "cell_type": "code",
   "execution_count": null,
   "id": "2eb4a389",
   "metadata": {},
   "outputs": [],
   "source": [
    "filt_less_than_75 = attendence.loc[:,('ATTEND','100')] < 75\n",
    "\n",
    "df_below_75[\"Total\"] = df_total_marks.loc[filt_less_than_75,\"Total\"]\n",
    "\n",
    "df_below_75[\"Attendence\"] = attendence.loc[filt_less_than_75,('ATTEND','100')]\n",
    "\n",
    "df_below_75.head()\n",
    "\n",
    "df_above_75[\"Total\"] = df_total_marks.loc[~filt_less_than_75,\"Total\"]\n",
    "\n",
    "df_above_75[\"Attendence\"] = attendence.loc[~filt_less_than_75,('ATTEND','100')]\n",
    "\n",
    "df_above_75.head()"
   ]
  }
 ],
 "metadata": {
  "kernelspec": {
   "display_name": "Python 3 (ipykernel)",
   "language": "python",
   "name": "python3"
  },
  "language_info": {
   "codemirror_mode": {
    "name": "ipython",
    "version": 3
   },
   "file_extension": ".py",
   "mimetype": "text/x-python",
   "name": "python",
   "nbconvert_exporter": "python",
   "pygments_lexer": "ipython3",
   "version": "3.9.7"
  }
 },
 "nbformat": 4,
 "nbformat_minor": 5
}
